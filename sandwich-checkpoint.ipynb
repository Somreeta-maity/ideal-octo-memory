{
 "cells": [
  {
   "cell_type": "code",
   "execution_count": 5,
   "id": "397308aa",
   "metadata": {},
   "outputs": [],
   "source": [
    "%matplotlib inline\n",
    "import pylab\n",
    "import numpy as np\n",
    "import pandas as pd \n",
    "from sklearn.svm import OneClassSVM\n",
    "from sklearn.covariance import EllipticEnvelope\n",
    "\n",
    "df = pd.read_csv('C:/Users/maity/OneDrive/Desktop/BREAKFAST CHALLENGE/sandwich/AnomalyData.csv')"
   ]
  },
  {
   "cell_type": "code",
   "execution_count": 6,
   "id": "9c452f9c",
   "metadata": {},
   "outputs": [
    {
     "data": {
      "text/html": [
       "<div>\n",
       "<style scoped>\n",
       "    .dataframe tbody tr th:only-of-type {\n",
       "        vertical-align: middle;\n",
       "    }\n",
       "\n",
       "    .dataframe tbody tr th {\n",
       "        vertical-align: top;\n",
       "    }\n",
       "\n",
       "    .dataframe thead th {\n",
       "        text-align: right;\n",
       "    }\n",
       "</style>\n",
       "<table border=\"1\" class=\"dataframe\">\n",
       "  <thead>\n",
       "    <tr style=\"text-align: right;\">\n",
       "      <th></th>\n",
       "      <th>State</th>\n",
       "      <th>state_code</th>\n",
       "      <th>data science</th>\n",
       "      <th>cluster analysis</th>\n",
       "      <th>college</th>\n",
       "      <th>startup</th>\n",
       "      <th>entrepreneur</th>\n",
       "      <th>ceo</th>\n",
       "      <th>mortgage</th>\n",
       "      <th>nba</th>\n",
       "      <th>...</th>\n",
       "      <th>obfuscation</th>\n",
       "      <th>unicorn</th>\n",
       "      <th>Extraversion</th>\n",
       "      <th>Agreeableness</th>\n",
       "      <th>Conscientiousness</th>\n",
       "      <th>Neuroticism</th>\n",
       "      <th>Openness</th>\n",
       "      <th>PsychRegions</th>\n",
       "      <th>region</th>\n",
       "      <th>division</th>\n",
       "    </tr>\n",
       "  </thead>\n",
       "  <tbody>\n",
       "    <tr>\n",
       "      <th>0</th>\n",
       "      <td>Alabama</td>\n",
       "      <td>AL</td>\n",
       "      <td>-1.00</td>\n",
       "      <td>-0.13</td>\n",
       "      <td>1.10</td>\n",
       "      <td>-0.68</td>\n",
       "      <td>0.15</td>\n",
       "      <td>-0.73</td>\n",
       "      <td>1.53</td>\n",
       "      <td>-0.74</td>\n",
       "      <td>...</td>\n",
       "      <td>-0.32</td>\n",
       "      <td>-1.03</td>\n",
       "      <td>55.5</td>\n",
       "      <td>52.7</td>\n",
       "      <td>55.5</td>\n",
       "      <td>48.7</td>\n",
       "      <td>42.7</td>\n",
       "      <td>1</td>\n",
       "      <td>3</td>\n",
       "      <td>6</td>\n",
       "    </tr>\n",
       "    <tr>\n",
       "      <th>1</th>\n",
       "      <td>Arizona</td>\n",
       "      <td>AZ</td>\n",
       "      <td>-0.42</td>\n",
       "      <td>-0.73</td>\n",
       "      <td>-0.10</td>\n",
       "      <td>0.11</td>\n",
       "      <td>0.57</td>\n",
       "      <td>0.25</td>\n",
       "      <td>0.95</td>\n",
       "      <td>0.38</td>\n",
       "      <td>...</td>\n",
       "      <td>0.38</td>\n",
       "      <td>0.10</td>\n",
       "      <td>50.6</td>\n",
       "      <td>46.6</td>\n",
       "      <td>58.4</td>\n",
       "      <td>38.1</td>\n",
       "      <td>54.7</td>\n",
       "      <td>2</td>\n",
       "      <td>4</td>\n",
       "      <td>8</td>\n",
       "    </tr>\n",
       "    <tr>\n",
       "      <th>2</th>\n",
       "      <td>Arkansas</td>\n",
       "      <td>AR</td>\n",
       "      <td>-0.66</td>\n",
       "      <td>-0.39</td>\n",
       "      <td>-0.64</td>\n",
       "      <td>-0.08</td>\n",
       "      <td>0.01</td>\n",
       "      <td>-0.66</td>\n",
       "      <td>-0.50</td>\n",
       "      <td>-0.71</td>\n",
       "      <td>...</td>\n",
       "      <td>-0.45</td>\n",
       "      <td>-0.32</td>\n",
       "      <td>49.9</td>\n",
       "      <td>52.7</td>\n",
       "      <td>41.0</td>\n",
       "      <td>56.2</td>\n",
       "      <td>40.3</td>\n",
       "      <td>1</td>\n",
       "      <td>3</td>\n",
       "      <td>7</td>\n",
       "    </tr>\n",
       "    <tr>\n",
       "      <th>3</th>\n",
       "      <td>California</td>\n",
       "      <td>CA</td>\n",
       "      <td>1.95</td>\n",
       "      <td>-0.62</td>\n",
       "      <td>-0.26</td>\n",
       "      <td>2.02</td>\n",
       "      <td>0.46</td>\n",
       "      <td>1.27</td>\n",
       "      <td>-0.97</td>\n",
       "      <td>1.46</td>\n",
       "      <td>...</td>\n",
       "      <td>0.70</td>\n",
       "      <td>-0.38</td>\n",
       "      <td>51.4</td>\n",
       "      <td>49.0</td>\n",
       "      <td>43.2</td>\n",
       "      <td>39.1</td>\n",
       "      <td>65.0</td>\n",
       "      <td>2</td>\n",
       "      <td>4</td>\n",
       "      <td>9</td>\n",
       "    </tr>\n",
       "    <tr>\n",
       "      <th>4</th>\n",
       "      <td>Colorado</td>\n",
       "      <td>CO</td>\n",
       "      <td>0.34</td>\n",
       "      <td>0.00</td>\n",
       "      <td>-0.61</td>\n",
       "      <td>1.49</td>\n",
       "      <td>0.05</td>\n",
       "      <td>0.33</td>\n",
       "      <td>1.38</td>\n",
       "      <td>-0.80</td>\n",
       "      <td>...</td>\n",
       "      <td>1.32</td>\n",
       "      <td>0.20</td>\n",
       "      <td>45.3</td>\n",
       "      <td>47.5</td>\n",
       "      <td>58.8</td>\n",
       "      <td>34.3</td>\n",
       "      <td>57.9</td>\n",
       "      <td>1</td>\n",
       "      <td>4</td>\n",
       "      <td>8</td>\n",
       "    </tr>\n",
       "  </tbody>\n",
       "</table>\n",
       "<p>5 rows × 30 columns</p>\n",
       "</div>"
      ],
      "text/plain": [
       "        State state_code  data science  cluster analysis  college  startup  \\\n",
       "0     Alabama         AL         -1.00             -0.13     1.10    -0.68   \n",
       "1     Arizona         AZ         -0.42             -0.73    -0.10     0.11   \n",
       "2    Arkansas         AR         -0.66             -0.39    -0.64    -0.08   \n",
       "3  California         CA          1.95             -0.62    -0.26     2.02   \n",
       "4    Colorado         CO          0.34              0.00    -0.61     1.49   \n",
       "\n",
       "   entrepreneur   ceo  mortgage   nba  ...  obfuscation  unicorn  \\\n",
       "0          0.15 -0.73      1.53 -0.74  ...        -0.32    -1.03   \n",
       "1          0.57  0.25      0.95  0.38  ...         0.38     0.10   \n",
       "2          0.01 -0.66     -0.50 -0.71  ...        -0.45    -0.32   \n",
       "3          0.46  1.27     -0.97  1.46  ...         0.70    -0.38   \n",
       "4          0.05  0.33      1.38 -0.80  ...         1.32     0.20   \n",
       "\n",
       "   Extraversion  Agreeableness  Conscientiousness  Neuroticism  Openness  \\\n",
       "0          55.5           52.7               55.5         48.7      42.7   \n",
       "1          50.6           46.6               58.4         38.1      54.7   \n",
       "2          49.9           52.7               41.0         56.2      40.3   \n",
       "3          51.4           49.0               43.2         39.1      65.0   \n",
       "4          45.3           47.5               58.8         34.3      57.9   \n",
       "\n",
       "   PsychRegions  region  division  \n",
       "0             1       3         6  \n",
       "1             2       4         8  \n",
       "2             1       3         7  \n",
       "3             2       4         9  \n",
       "4             1       4         8  \n",
       "\n",
       "[5 rows x 30 columns]"
      ]
     },
     "execution_count": 6,
     "metadata": {},
     "output_type": "execute_result"
    }
   ],
   "source": [
    "df.head()"
   ]
  },
  {
   "cell_type": "code",
   "execution_count": 16,
   "id": "a1e21e41",
   "metadata": {},
   "outputs": [],
   "source": [
    "param = \"mortgage\""
   ]
  },
  {
   "cell_type": "code",
   "execution_count": 17,
   "id": "a6b6d565",
   "metadata": {},
   "outputs": [],
   "source": [
    "state_code = df[\"state_code\"]\n",
    "data = df.loc[:, \"data science\": \"Openness\"]"
   ]
  },
  {
   "cell_type": "code",
   "execution_count": 19,
   "id": "2799ec5b",
   "metadata": {},
   "outputs": [],
   "source": [
    "param = \"mortgage\"\n",
    "qv1 = data[param].quantile(0.25)\n",
    "qv2 = data[param].quantile(0.5)\n",
    "qv3 = data[param].quantile(0.75)\n",
    "qv_limit = 1.5 * (qv3 - qv1)"
   ]
  },
  {
   "cell_type": "code",
   "execution_count": 22,
   "id": "b78fd650",
   "metadata": {},
   "outputs": [],
   "source": [
    "un_outliers_mask = ((data[param] > qv3 + qv_limit) | data[param] < qv1 - qv_limit)\n",
    "un_outliers_mask = data[param][un_outliers_mask]\n",
    "un_outliers_mask = state_code[un_outliers_mask]"
   ]
  },
  {
   "cell_type": "code",
   "execution_count": 24,
   "id": "a3d55588",
   "metadata": {},
   "outputs": [
    {
     "data": {
      "text/plain": [
       "Text(0, 0.5, 'mortgage')"
      ]
     },
     "execution_count": 24,
     "metadata": {},
     "output_type": "execute_result"
    },
    {
     "data": {
      "image/png": "[encoded data removed]",
      "text/plain": [
       "<Figure size 288x432 with 1 Axes>"
      ]
     },
     "metadata": {
      "needs_background": "light"
     },
     "output_type": "display_data"
    }
   ],
   "source": [
    "fig = pylab.figure(figsize=(4,6))\n",
    "ax = fig.add_subplot(1, 1, 1)\n",
    "for name, y in zip(un_outliers_mask, un_outliers_mask):\n",
    "    ax.text(1, y, name )\n",
    "ax.boxplot(data[param])\n",
    "ax.set_ylabel(param)"
   ]
  },
  {
   "cell_type": "code",
   "execution_count": 25,
   "id": "e2f278fe",
   "metadata": {},
   "outputs": [],
   "source": [
    "params = [\"data science\" , \"ceo\"]\n",
    "params_data = np.array([df[params[0]], df[params[1]]]).T"
   ]
  },
  {
   "cell_type": "code",
   "execution_count": 26,
   "id": "f4194c1e",
   "metadata": {},
   "outputs": [
    {
     "data": {
      "text/plain": [
       "EllipticEnvelope()"
      ]
     },
     "execution_count": 26,
     "metadata": {},
     "output_type": "execute_result"
    }
   ],
   "source": [
    "ee = EllipticEnvelope()\n",
    "ee.fit(params_data)"
   ]
  },
  {
   "cell_type": "code",
   "execution_count": 27,
   "id": "ff62ae85",
   "metadata": {},
   "outputs": [],
   "source": [
    "biv_outliers_mask = ee.predict(params_data) == -1\n",
    "biv_outliers_data = params_data[biv_outliers_mask]\n",
    "biv_outliers_name = state_code[biv_outliers_mask]"
   ]
  },
  {
   "cell_type": "code",
   "execution_count": 39,
   "id": "65d3d257",
   "metadata": {},
   "outputs": [],
   "source": [
    "xx, yy = np.meshgrid(np.linspace(params_data[:, 0].min(), params_data[:, 0].max(), 100),\n",
    "                     np.linspace(params_data[:, 1].min(), params_data[:, 1].max(), 100))\n",
    "\n",
    "zz = ee.decision_function(np.c_[xx.ravel(), yy.ravel()])\n",
    "zz = zz.reshape(xx.shape)"
   ]
  },
  {
   "cell_type": "code",
   "execution_count": 41,
   "id": "5e34eaec",
   "metadata": {},
   "outputs": [
    {
     "data": {
      "text/plain": [
       "Text(0, 0.5, 'ceo')"
      ]
     },
     "execution_count": 41,
     "metadata": {},
     "output_type": "execute_result"
    },
    {
     "data": {
      "image/png": "[encoded data removed]",
      "text/plain": [
       "<Figure size 720x720 with 1 Axes>"
      ]
     },
     "metadata": {
      "needs_background": "light"
     },
     "output_type": "display_data"
    }
   ],
   "source": [
    "fig = pylab.figure(figsize=(10,10))\n",
    "ax = fig.add_subplot(1,1,1)\n",
    "for name ,xy in zip(biv_outliers_name, biv_outliers_data):\n",
    "    ax.text(xy[0], xy[1], name)\n",
    "ax.contour(xx, yy, zz , levels=[0], linewidths= 2)\n",
    "ax.scatter(params_data[:,0], params_data[:, 1], color='black')\n",
    "ax.set_xlabel(params[0])\n",
    "ax.set_ylabel(params[1])"
   ]
  },
  {
   "cell_type": "code",
   "execution_count": 42,
   "id": "a0086bdb",
   "metadata": {},
   "outputs": [
    {
     "data": {
      "text/plain": [
       "OneClassSVM(gamma=0.05, nu=0.25)"
      ]
     },
     "execution_count": 42,
     "metadata": {},
     "output_type": "execute_result"
    }
   ],
   "source": [
    "ocsvm = OneClassSVM(nu=0.25, gamma = 0.05)\n",
    "ocsvm.fit(data)"
   ]
  },
  {
   "cell_type": "code",
   "execution_count": 43,
   "id": "1f67a726",
   "metadata": {},
   "outputs": [
    {
     "data": {
      "text/plain": [
       "7     FL\n",
       "13    KS\n",
       "14    KY\n",
       "16    ME\n",
       "17    MD\n",
       "18    MA\n",
       "19    MI\n",
       "20    MN\n",
       "21    MS\n",
       "24    NE\n",
       "25    NV\n",
       "27    NJ\n",
       "28    NM\n",
       "30    NC\n",
       "33    OK\n",
       "39    TN\n",
       "43    VA\n",
       "Name: state_code, dtype: object"
      ]
     },
     "execution_count": 43,
     "metadata": {},
     "output_type": "execute_result"
    }
   ],
   "source": [
    "state_code[ocsvm.predict(data) == -1]"
   ]
  },
  {
   "cell_type": "code",
   "execution_count": null,
   "id": "c0ba7df4",
   "metadata": {},
   "outputs": [],
   "source": []
  }
 ],
 "metadata": {
  "kernelspec": {
   "display_name": "Python 3 (ipykernel)",
   "language": "python",
   "name": "python3"
  },
  "language_info": {
   "codemirror_mode": {
    "name": "ipython",
    "version": 3
   },
   "file_extension": ".py",
   "mimetype": "text/x-python",
   "name": "python",
   "nbconvert_exporter": "python",
   "pygments_lexer": "ipython3",
   "version": "3.9.7"
  }
 },
 "nbformat": 4,
 "nbformat_minor": 5
}
